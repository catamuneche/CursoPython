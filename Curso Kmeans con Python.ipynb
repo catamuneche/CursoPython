{
 "cells": [
  {
   "cell_type": "code",
   "execution_count": 1,
   "metadata": {},
   "outputs": [],
   "source": [
    "import numpy as np\n",
    "import pandas as pd\n",
    "import matplotlib.pyplot as plt\n",
    "import seaborn as sns\n",
    "from sklearn.model_selection import train_test_split"
   ]
  },
  {
   "cell_type": "code",
   "execution_count": 2,
   "metadata": {},
   "outputs": [],
   "source": [
    "from sklearn.datasets import make_blobs"
   ]
  },
  {
   "cell_type": "code",
   "execution_count": 3,
   "metadata": {},
   "outputs": [
    {
     "data": {
      "text/plain": [
       "(array([[ 2.96078658e+00,  9.14943654e+00],\n",
       "        [ 1.61507717e+00,  1.02475459e+01],\n",
       "        [ 4.19752982e+00,  9.78133096e+00],\n",
       "        [-1.69891430e+00, -3.01517034e+00],\n",
       "        [ 1.85624952e+00,  8.73682060e+00],\n",
       "        [-5.35010131e+00, -1.93320354e+00],\n",
       "        [-4.93118208e+00, -1.37030377e+00],\n",
       "        [ 9.26416546e+00,  3.87378503e+00],\n",
       "        [-7.13284712e-01, -1.69234223e+00],\n",
       "        [-1.70238945e+00, -2.52038240e+00],\n",
       "        [ 2.93458633e+00,  1.00767376e+01],\n",
       "        [ 8.08099025e+00,  5.23454250e+00],\n",
       "        [ 9.58990970e+00,  3.74696323e+00],\n",
       "        [-1.71381734e+00, -2.08624273e-01],\n",
       "        [-1.96905823e+00, -2.28668007e+00],\n",
       "        [-4.54400787e+00, -2.06284926e+00],\n",
       "        [ 8.09310698e+00,  2.96689838e+00],\n",
       "        [ 9.00464380e+00,  3.66308274e+00],\n",
       "        [-4.99503853e+00, -1.49985530e+00],\n",
       "        [-5.53156138e+00, -1.83030136e+00],\n",
       "        [-5.87194731e-01, -1.99470626e-01],\n",
       "        [ 3.07630972e+00,  8.02672302e+00],\n",
       "        [-1.61477204e+00, -6.62519952e-01],\n",
       "        [ 1.10347760e+01,  4.67312544e+00],\n",
       "        [ 2.33216152e+00,  1.03923876e+01],\n",
       "        [ 1.05288338e+01,  4.67481506e+00],\n",
       "        [ 6.98778162e+00,  3.27719761e+00],\n",
       "        [ 5.11930291e-01,  8.71340905e+00],\n",
       "        [ 6.80304544e-01, -1.57253241e+00],\n",
       "        [ 2.18400988e+00,  9.70107604e+00],\n",
       "        [-5.07031556e+00, -1.70193580e+00],\n",
       "        [-6.35765087e+00,  8.53942016e-01],\n",
       "        [-2.86622710e+00, -9.13174769e-02],\n",
       "        [ 1.70672035e+00,  9.63590590e+00],\n",
       "        [-5.75943640e+00, -1.01042838e+00],\n",
       "        [-4.68966212e+00,  7.24888373e-01],\n",
       "        [ 8.64427564e+00,  3.61821055e+00],\n",
       "        [-5.34602815e+00, -8.64895310e-02],\n",
       "        [ 9.61911421e+00,  5.75948936e+00],\n",
       "        [ 9.55151261e+00,  3.18765017e+00],\n",
       "        [-6.08010389e+00, -6.08127749e-01],\n",
       "        [-8.05807692e-01, -2.41530122e+00],\n",
       "        [ 3.03133966e+00,  7.87777863e+00],\n",
       "        [ 1.15628240e+01,  3.39873281e+00],\n",
       "        [-4.50741986e+00, -3.19584169e-01],\n",
       "        [-5.34197587e-01, -3.81296580e+00],\n",
       "        [ 9.90104640e+00,  3.19541333e+00],\n",
       "        [-5.35602599e+00, -9.88886609e-01],\n",
       "        [ 4.49004614e+00,  9.52504747e+00],\n",
       "        [ 2.70487271e+00,  9.83927257e+00],\n",
       "        [-7.35494985e+00, -3.63342135e-01],\n",
       "        [ 9.03403238e+00,  3.53266843e+00],\n",
       "        [-5.71523074e-01, -2.02048670e+00],\n",
       "        [-6.22341544e+00, -6.51840413e-01],\n",
       "        [-5.05052980e+00,  3.58989017e-01],\n",
       "        [-4.77828044e+00, -4.96632868e-01],\n",
       "        [-4.53919454e+00, -4.39849901e-01],\n",
       "        [-5.24093284e+00, -1.60746338e+00],\n",
       "        [ 5.99937707e+00,  3.22048172e+00],\n",
       "        [ 1.00161152e+01,  2.44859456e+00],\n",
       "        [ 8.28408187e+00,  1.99872667e+00],\n",
       "        [ 1.09118862e+01,  3.34685194e+00],\n",
       "        [ 3.72992189e+00,  9.43938678e+00],\n",
       "        [ 9.82933224e+00,  1.99456534e+00],\n",
       "        [-1.01455031e+00, -6.33274742e-02],\n",
       "        [ 3.27299647e+00,  9.37096497e+00],\n",
       "        [ 8.88184751e+00,  3.73514236e+00],\n",
       "        [-2.49619369e+00, -1.14649059e+00],\n",
       "        [-1.14919374e+00, -1.39893346e+00],\n",
       "        [-1.91735256e-01,  9.74622208e+00],\n",
       "        [-5.08407853e+00, -1.45280887e+00],\n",
       "        [ 2.49128683e+00,  9.84072345e+00],\n",
       "        [ 9.88956345e+00,  4.33013057e+00],\n",
       "        [-5.05817733e+00, -1.16696688e+00],\n",
       "        [ 9.61077419e+00,  3.21237910e+00],\n",
       "        [-5.91021578e+00,  4.13217952e-02],\n",
       "        [-2.64303272e+00, -1.75423039e+00],\n",
       "        [ 8.17087556e+00,  3.54826964e+00],\n",
       "        [-1.44609538e-01, -2.02882745e+00],\n",
       "        [ 3.53911173e+00,  8.96600183e+00],\n",
       "        [-2.64807495e+00, -4.09498804e-01],\n",
       "        [-6.04975388e+00, -2.25612259e-01],\n",
       "        [-4.38368841e+00, -8.25024257e-01],\n",
       "        [-2.52438315e+00, -1.86990478e+00],\n",
       "        [ 3.74566577e+00,  1.13750924e+01],\n",
       "        [ 2.08904324e+00,  1.13066421e+01],\n",
       "        [-4.76719735e-01, -2.21628157e+00],\n",
       "        [ 4.17553852e+00,  1.03798437e+01],\n",
       "        [ 1.58885954e+00,  9.29272054e+00],\n",
       "        [ 8.71088677e+00,  3.70252559e+00],\n",
       "        [-5.05614648e+00, -1.13764040e+00],\n",
       "        [ 4.29017083e-01,  3.15779523e-01],\n",
       "        [ 2.44968448e+00,  8.52383401e+00],\n",
       "        [-7.80851719e-01, -3.87887616e+00],\n",
       "        [ 5.95114694e+00,  1.04694341e+01],\n",
       "        [ 3.75737065e+00,  9.57622840e+00],\n",
       "        [ 8.27612813e+00,  4.41539290e+00],\n",
       "        [-9.39152402e-01, -1.03756567e+00],\n",
       "        [ 9.89925878e+00,  3.04509271e+00],\n",
       "        [ 2.12473821e+00,  9.76710175e+00],\n",
       "        [ 2.23846660e-01, -2.02123477e+00],\n",
       "        [ 2.19547990e+00,  8.87746393e+00],\n",
       "        [ 2.61935440e+00,  1.05594530e+01],\n",
       "        [ 3.46484674e+00,  8.22335823e+00],\n",
       "        [ 2.29134010e+00,  9.73572285e+00],\n",
       "        [ 8.46823495e+00,  2.75220970e+00],\n",
       "        [-9.48137910e-01, -1.27215966e+00],\n",
       "        [ 8.40659926e+00,  3.40661680e+00],\n",
       "        [-1.30662298e+00, -2.09611316e+00],\n",
       "        [-5.06069100e+00, -1.76861167e+00],\n",
       "        [ 3.57147546e+00,  1.12776145e+01],\n",
       "        [-4.94520638e+00, -1.11130661e-02],\n",
       "        [-3.45539853e+00, -7.14683940e-01],\n",
       "        [-1.79707818e+00, -1.07306461e+00],\n",
       "        [ 2.19996313e+00,  1.05585250e+01],\n",
       "        [-6.01990218e-01, -2.75273825e+00],\n",
       "        [-2.49050973e+00, -2.64017245e+00],\n",
       "        [ 9.98412594e+00,  4.11799347e+00],\n",
       "        [-5.87747089e+00, -1.75907043e+00],\n",
       "        [-1.73825712e+00, -3.27036763e+00],\n",
       "        [-5.13323771e+00, -4.87415517e-01],\n",
       "        [-8.67605398e-01, -1.58118791e+00],\n",
       "        [ 3.35122094e+00,  1.10396379e+01],\n",
       "        [ 7.64347871e+00,  3.14830745e+00],\n",
       "        [-2.72207523e-01, -1.79073979e+00],\n",
       "        [ 3.04378982e+00,  8.43606466e+00],\n",
       "        [ 7.50596083e+00,  3.45935830e+00],\n",
       "        [-4.51277845e-02, -7.92382799e-01],\n",
       "        [-4.98889931e+00, -2.12083739e+00],\n",
       "        [-2.49235302e+00, -2.24553526e+00],\n",
       "        [ 3.03677641e+00,  1.02406530e+01],\n",
       "        [ 2.99822257e+00,  9.03186476e+00],\n",
       "        [-1.05017887e+00, -3.52459286e-01],\n",
       "        [ 1.99033744e+00,  1.13477150e+01],\n",
       "        [ 2.89543471e+00,  9.12310596e+00],\n",
       "        [ 4.31378224e+00,  1.06955066e+01],\n",
       "        [-3.84020183e-01, -1.72578195e+00],\n",
       "        [ 9.09328397e+00,  3.79226163e+00],\n",
       "        [ 7.67483742e+00,  2.83598799e+00],\n",
       "        [ 9.69325187e+00,  2.20290140e+00],\n",
       "        [-2.46931533e+00, -1.60368570e+00],\n",
       "        [-5.14258056e-01, -7.07608008e-01],\n",
       "        [-2.51104465e+00,  5.20199371e-01],\n",
       "        [ 4.49064358e+00,  9.30551579e+00],\n",
       "        [ 3.12297895e+00,  7.76928787e+00],\n",
       "        [-2.41072737e+00, -1.95408630e+00],\n",
       "        [-6.91651464e+00, -7.35040848e-01],\n",
       "        [ 3.82826114e+00,  9.16897762e+00],\n",
       "        [ 3.88331833e+00,  9.07410109e+00],\n",
       "        [-4.94826496e+00, -7.27109828e-01],\n",
       "        [-6.05536929e+00, -1.53860759e+00],\n",
       "        [ 8.69996250e+00,  3.07377717e+00],\n",
       "        [ 8.76245972e+00,  3.35580333e+00],\n",
       "        [ 1.95107271e+00,  9.52417778e+00],\n",
       "        [ 9.70034750e+00,  4.27565171e+00],\n",
       "        [ 1.03595709e+01,  2.33293464e+00],\n",
       "        [-6.74478190e-01, -2.07101191e+00],\n",
       "        [-5.49201616e+00, -1.55138700e+00],\n",
       "        [ 8.39392945e+00,  4.12878530e+00],\n",
       "        [-9.50066132e-01, -1.49056017e+00],\n",
       "        [ 9.54376893e+00,  5.23887504e+00],\n",
       "        [-1.85021510e+00, -1.59542797e+00],\n",
       "        [-4.39674975e+00, -7.95130119e-02],\n",
       "        [ 9.66163189e+00,  2.48289501e+00],\n",
       "        [-3.91225510e+00,  9.15304912e-02],\n",
       "        [ 9.47734412e+00,  4.32163628e-01],\n",
       "        [-4.55412790e+00, -8.26452863e-01],\n",
       "        [ 8.69555290e+00,  3.36449440e+00],\n",
       "        [ 7.03395626e+00,  2.68667888e+00],\n",
       "        [-1.55047277e+00, -3.42269391e-01],\n",
       "        [-5.16139481e+00, -2.68128046e+00],\n",
       "        [ 1.03578194e+01,  2.33253385e+00],\n",
       "        [-5.65701382e+00, -2.10000027e+00],\n",
       "        [ 1.37470848e+00, -1.59603544e+00],\n",
       "        [ 1.50304234e+00,  9.47299502e+00],\n",
       "        [-1.45215208e+00, -1.53256564e+00],\n",
       "        [-4.22895083e-01, -1.43599264e+00],\n",
       "        [ 9.01467628e+00,  3.39801632e+00],\n",
       "        [-3.48632688e+00, -2.35508370e+00],\n",
       "        [-6.53990478e+00, -1.65082248e+00],\n",
       "        [ 3.63830354e+00,  1.08163959e+01],\n",
       "        [-4.16802308e+00, -1.70595469e+00],\n",
       "        [ 1.02643754e+01,  3.81484004e+00],\n",
       "        [ 3.92559664e-01, -9.99905243e-03],\n",
       "        [-7.94154445e-01, -3.85068764e+00],\n",
       "        [-4.54358527e+00, -1.32966936e+00],\n",
       "        [ 2.65870443e+00,  9.12905431e+00],\n",
       "        [ 9.50817477e+00,  3.46256102e+00],\n",
       "        [-5.47976667e+00, -2.50404570e+00],\n",
       "        [-3.87813449e+00, -2.75159711e-01],\n",
       "        [ 2.52221062e+00,  1.07240880e+01],\n",
       "        [ 2.55947303e-01, -7.02661427e-01],\n",
       "        [ 9.33075063e+00,  3.75393857e+00],\n",
       "        [-2.92671631e-01, -2.53610112e-01],\n",
       "        [-7.13139112e+00,  5.90300618e-01],\n",
       "        [-1.09470369e+00, -2.02712143e+00],\n",
       "        [ 5.05707368e-01,  8.63995763e+00],\n",
       "        [ 2.90361473e+00,  1.20300911e+01],\n",
       "        [ 8.71104186e+00,  2.10558582e+00],\n",
       "        [-5.97608777e+00,  1.85965057e+00]]),\n",
       " array([2, 2, 2, 0, 2, 1, 1, 3, 0, 0, 2, 3, 3, 0, 0, 1, 3, 3, 1, 1, 0, 2,\n",
       "        0, 3, 2, 3, 3, 2, 0, 2, 1, 1, 0, 2, 1, 1, 3, 1, 3, 3, 1, 0, 2, 3,\n",
       "        1, 0, 3, 1, 2, 2, 1, 3, 0, 1, 1, 1, 1, 1, 3, 3, 3, 3, 2, 3, 0, 2,\n",
       "        3, 1, 0, 2, 1, 2, 3, 1, 3, 1, 0, 3, 0, 2, 0, 1, 1, 0, 2, 2, 0, 2,\n",
       "        2, 3, 1, 0, 2, 0, 2, 2, 3, 0, 3, 2, 0, 2, 2, 2, 2, 3, 0, 3, 0, 1,\n",
       "        2, 1, 1, 0, 2, 0, 0, 3, 1, 0, 1, 0, 2, 3, 0, 2, 3, 0, 1, 1, 2, 2,\n",
       "        0, 2, 2, 2, 0, 3, 3, 3, 0, 0, 0, 2, 2, 0, 1, 2, 2, 1, 1, 3, 3, 2,\n",
       "        3, 3, 0, 1, 3, 0, 3, 0, 1, 3, 1, 3, 1, 3, 3, 0, 1, 3, 1, 0, 2, 0,\n",
       "        0, 3, 1, 1, 2, 1, 3, 0, 0, 1, 2, 3, 1, 1, 2, 0, 3, 0, 1, 0, 2, 2,\n",
       "        3, 1]))"
      ]
     },
     "execution_count": 3,
     "metadata": {},
     "output_type": "execute_result"
    }
   ],
   "source": [
    "datos = make_blobs(n_samples=200, n_features=2, centers=4)\n",
    "datos"
   ]
  },
  {
   "cell_type": "code",
   "execution_count": 4,
   "metadata": {},
   "outputs": [
    {
     "data": {
      "text/plain": [
       "array([[ 2.96078658e+00,  9.14943654e+00],\n",
       "       [ 1.61507717e+00,  1.02475459e+01],\n",
       "       [ 4.19752982e+00,  9.78133096e+00],\n",
       "       [-1.69891430e+00, -3.01517034e+00],\n",
       "       [ 1.85624952e+00,  8.73682060e+00],\n",
       "       [-5.35010131e+00, -1.93320354e+00],\n",
       "       [-4.93118208e+00, -1.37030377e+00],\n",
       "       [ 9.26416546e+00,  3.87378503e+00],\n",
       "       [-7.13284712e-01, -1.69234223e+00],\n",
       "       [-1.70238945e+00, -2.52038240e+00],\n",
       "       [ 2.93458633e+00,  1.00767376e+01],\n",
       "       [ 8.08099025e+00,  5.23454250e+00],\n",
       "       [ 9.58990970e+00,  3.74696323e+00],\n",
       "       [-1.71381734e+00, -2.08624273e-01],\n",
       "       [-1.96905823e+00, -2.28668007e+00],\n",
       "       [-4.54400787e+00, -2.06284926e+00],\n",
       "       [ 8.09310698e+00,  2.96689838e+00],\n",
       "       [ 9.00464380e+00,  3.66308274e+00],\n",
       "       [-4.99503853e+00, -1.49985530e+00],\n",
       "       [-5.53156138e+00, -1.83030136e+00],\n",
       "       [-5.87194731e-01, -1.99470626e-01],\n",
       "       [ 3.07630972e+00,  8.02672302e+00],\n",
       "       [-1.61477204e+00, -6.62519952e-01],\n",
       "       [ 1.10347760e+01,  4.67312544e+00],\n",
       "       [ 2.33216152e+00,  1.03923876e+01],\n",
       "       [ 1.05288338e+01,  4.67481506e+00],\n",
       "       [ 6.98778162e+00,  3.27719761e+00],\n",
       "       [ 5.11930291e-01,  8.71340905e+00],\n",
       "       [ 6.80304544e-01, -1.57253241e+00],\n",
       "       [ 2.18400988e+00,  9.70107604e+00],\n",
       "       [-5.07031556e+00, -1.70193580e+00],\n",
       "       [-6.35765087e+00,  8.53942016e-01],\n",
       "       [-2.86622710e+00, -9.13174769e-02],\n",
       "       [ 1.70672035e+00,  9.63590590e+00],\n",
       "       [-5.75943640e+00, -1.01042838e+00],\n",
       "       [-4.68966212e+00,  7.24888373e-01],\n",
       "       [ 8.64427564e+00,  3.61821055e+00],\n",
       "       [-5.34602815e+00, -8.64895310e-02],\n",
       "       [ 9.61911421e+00,  5.75948936e+00],\n",
       "       [ 9.55151261e+00,  3.18765017e+00],\n",
       "       [-6.08010389e+00, -6.08127749e-01],\n",
       "       [-8.05807692e-01, -2.41530122e+00],\n",
       "       [ 3.03133966e+00,  7.87777863e+00],\n",
       "       [ 1.15628240e+01,  3.39873281e+00],\n",
       "       [-4.50741986e+00, -3.19584169e-01],\n",
       "       [-5.34197587e-01, -3.81296580e+00],\n",
       "       [ 9.90104640e+00,  3.19541333e+00],\n",
       "       [-5.35602599e+00, -9.88886609e-01],\n",
       "       [ 4.49004614e+00,  9.52504747e+00],\n",
       "       [ 2.70487271e+00,  9.83927257e+00],\n",
       "       [-7.35494985e+00, -3.63342135e-01],\n",
       "       [ 9.03403238e+00,  3.53266843e+00],\n",
       "       [-5.71523074e-01, -2.02048670e+00],\n",
       "       [-6.22341544e+00, -6.51840413e-01],\n",
       "       [-5.05052980e+00,  3.58989017e-01],\n",
       "       [-4.77828044e+00, -4.96632868e-01],\n",
       "       [-4.53919454e+00, -4.39849901e-01],\n",
       "       [-5.24093284e+00, -1.60746338e+00],\n",
       "       [ 5.99937707e+00,  3.22048172e+00],\n",
       "       [ 1.00161152e+01,  2.44859456e+00],\n",
       "       [ 8.28408187e+00,  1.99872667e+00],\n",
       "       [ 1.09118862e+01,  3.34685194e+00],\n",
       "       [ 3.72992189e+00,  9.43938678e+00],\n",
       "       [ 9.82933224e+00,  1.99456534e+00],\n",
       "       [-1.01455031e+00, -6.33274742e-02],\n",
       "       [ 3.27299647e+00,  9.37096497e+00],\n",
       "       [ 8.88184751e+00,  3.73514236e+00],\n",
       "       [-2.49619369e+00, -1.14649059e+00],\n",
       "       [-1.14919374e+00, -1.39893346e+00],\n",
       "       [-1.91735256e-01,  9.74622208e+00],\n",
       "       [-5.08407853e+00, -1.45280887e+00],\n",
       "       [ 2.49128683e+00,  9.84072345e+00],\n",
       "       [ 9.88956345e+00,  4.33013057e+00],\n",
       "       [-5.05817733e+00, -1.16696688e+00],\n",
       "       [ 9.61077419e+00,  3.21237910e+00],\n",
       "       [-5.91021578e+00,  4.13217952e-02],\n",
       "       [-2.64303272e+00, -1.75423039e+00],\n",
       "       [ 8.17087556e+00,  3.54826964e+00],\n",
       "       [-1.44609538e-01, -2.02882745e+00],\n",
       "       [ 3.53911173e+00,  8.96600183e+00],\n",
       "       [-2.64807495e+00, -4.09498804e-01],\n",
       "       [-6.04975388e+00, -2.25612259e-01],\n",
       "       [-4.38368841e+00, -8.25024257e-01],\n",
       "       [-2.52438315e+00, -1.86990478e+00],\n",
       "       [ 3.74566577e+00,  1.13750924e+01],\n",
       "       [ 2.08904324e+00,  1.13066421e+01],\n",
       "       [-4.76719735e-01, -2.21628157e+00],\n",
       "       [ 4.17553852e+00,  1.03798437e+01],\n",
       "       [ 1.58885954e+00,  9.29272054e+00],\n",
       "       [ 8.71088677e+00,  3.70252559e+00],\n",
       "       [-5.05614648e+00, -1.13764040e+00],\n",
       "       [ 4.29017083e-01,  3.15779523e-01],\n",
       "       [ 2.44968448e+00,  8.52383401e+00],\n",
       "       [-7.80851719e-01, -3.87887616e+00],\n",
       "       [ 5.95114694e+00,  1.04694341e+01],\n",
       "       [ 3.75737065e+00,  9.57622840e+00],\n",
       "       [ 8.27612813e+00,  4.41539290e+00],\n",
       "       [-9.39152402e-01, -1.03756567e+00],\n",
       "       [ 9.89925878e+00,  3.04509271e+00],\n",
       "       [ 2.12473821e+00,  9.76710175e+00],\n",
       "       [ 2.23846660e-01, -2.02123477e+00],\n",
       "       [ 2.19547990e+00,  8.87746393e+00],\n",
       "       [ 2.61935440e+00,  1.05594530e+01],\n",
       "       [ 3.46484674e+00,  8.22335823e+00],\n",
       "       [ 2.29134010e+00,  9.73572285e+00],\n",
       "       [ 8.46823495e+00,  2.75220970e+00],\n",
       "       [-9.48137910e-01, -1.27215966e+00],\n",
       "       [ 8.40659926e+00,  3.40661680e+00],\n",
       "       [-1.30662298e+00, -2.09611316e+00],\n",
       "       [-5.06069100e+00, -1.76861167e+00],\n",
       "       [ 3.57147546e+00,  1.12776145e+01],\n",
       "       [-4.94520638e+00, -1.11130661e-02],\n",
       "       [-3.45539853e+00, -7.14683940e-01],\n",
       "       [-1.79707818e+00, -1.07306461e+00],\n",
       "       [ 2.19996313e+00,  1.05585250e+01],\n",
       "       [-6.01990218e-01, -2.75273825e+00],\n",
       "       [-2.49050973e+00, -2.64017245e+00],\n",
       "       [ 9.98412594e+00,  4.11799347e+00],\n",
       "       [-5.87747089e+00, -1.75907043e+00],\n",
       "       [-1.73825712e+00, -3.27036763e+00],\n",
       "       [-5.13323771e+00, -4.87415517e-01],\n",
       "       [-8.67605398e-01, -1.58118791e+00],\n",
       "       [ 3.35122094e+00,  1.10396379e+01],\n",
       "       [ 7.64347871e+00,  3.14830745e+00],\n",
       "       [-2.72207523e-01, -1.79073979e+00],\n",
       "       [ 3.04378982e+00,  8.43606466e+00],\n",
       "       [ 7.50596083e+00,  3.45935830e+00],\n",
       "       [-4.51277845e-02, -7.92382799e-01],\n",
       "       [-4.98889931e+00, -2.12083739e+00],\n",
       "       [-2.49235302e+00, -2.24553526e+00],\n",
       "       [ 3.03677641e+00,  1.02406530e+01],\n",
       "       [ 2.99822257e+00,  9.03186476e+00],\n",
       "       [-1.05017887e+00, -3.52459286e-01],\n",
       "       [ 1.99033744e+00,  1.13477150e+01],\n",
       "       [ 2.89543471e+00,  9.12310596e+00],\n",
       "       [ 4.31378224e+00,  1.06955066e+01],\n",
       "       [-3.84020183e-01, -1.72578195e+00],\n",
       "       [ 9.09328397e+00,  3.79226163e+00],\n",
       "       [ 7.67483742e+00,  2.83598799e+00],\n",
       "       [ 9.69325187e+00,  2.20290140e+00],\n",
       "       [-2.46931533e+00, -1.60368570e+00],\n",
       "       [-5.14258056e-01, -7.07608008e-01],\n",
       "       [-2.51104465e+00,  5.20199371e-01],\n",
       "       [ 4.49064358e+00,  9.30551579e+00],\n",
       "       [ 3.12297895e+00,  7.76928787e+00],\n",
       "       [-2.41072737e+00, -1.95408630e+00],\n",
       "       [-6.91651464e+00, -7.35040848e-01],\n",
       "       [ 3.82826114e+00,  9.16897762e+00],\n",
       "       [ 3.88331833e+00,  9.07410109e+00],\n",
       "       [-4.94826496e+00, -7.27109828e-01],\n",
       "       [-6.05536929e+00, -1.53860759e+00],\n",
       "       [ 8.69996250e+00,  3.07377717e+00],\n",
       "       [ 8.76245972e+00,  3.35580333e+00],\n",
       "       [ 1.95107271e+00,  9.52417778e+00],\n",
       "       [ 9.70034750e+00,  4.27565171e+00],\n",
       "       [ 1.03595709e+01,  2.33293464e+00],\n",
       "       [-6.74478190e-01, -2.07101191e+00],\n",
       "       [-5.49201616e+00, -1.55138700e+00],\n",
       "       [ 8.39392945e+00,  4.12878530e+00],\n",
       "       [-9.50066132e-01, -1.49056017e+00],\n",
       "       [ 9.54376893e+00,  5.23887504e+00],\n",
       "       [-1.85021510e+00, -1.59542797e+00],\n",
       "       [-4.39674975e+00, -7.95130119e-02],\n",
       "       [ 9.66163189e+00,  2.48289501e+00],\n",
       "       [-3.91225510e+00,  9.15304912e-02],\n",
       "       [ 9.47734412e+00,  4.32163628e-01],\n",
       "       [-4.55412790e+00, -8.26452863e-01],\n",
       "       [ 8.69555290e+00,  3.36449440e+00],\n",
       "       [ 7.03395626e+00,  2.68667888e+00],\n",
       "       [-1.55047277e+00, -3.42269391e-01],\n",
       "       [-5.16139481e+00, -2.68128046e+00],\n",
       "       [ 1.03578194e+01,  2.33253385e+00],\n",
       "       [-5.65701382e+00, -2.10000027e+00],\n",
       "       [ 1.37470848e+00, -1.59603544e+00],\n",
       "       [ 1.50304234e+00,  9.47299502e+00],\n",
       "       [-1.45215208e+00, -1.53256564e+00],\n",
       "       [-4.22895083e-01, -1.43599264e+00],\n",
       "       [ 9.01467628e+00,  3.39801632e+00],\n",
       "       [-3.48632688e+00, -2.35508370e+00],\n",
       "       [-6.53990478e+00, -1.65082248e+00],\n",
       "       [ 3.63830354e+00,  1.08163959e+01],\n",
       "       [-4.16802308e+00, -1.70595469e+00],\n",
       "       [ 1.02643754e+01,  3.81484004e+00],\n",
       "       [ 3.92559664e-01, -9.99905243e-03],\n",
       "       [-7.94154445e-01, -3.85068764e+00],\n",
       "       [-4.54358527e+00, -1.32966936e+00],\n",
       "       [ 2.65870443e+00,  9.12905431e+00],\n",
       "       [ 9.50817477e+00,  3.46256102e+00],\n",
       "       [-5.47976667e+00, -2.50404570e+00],\n",
       "       [-3.87813449e+00, -2.75159711e-01],\n",
       "       [ 2.52221062e+00,  1.07240880e+01],\n",
       "       [ 2.55947303e-01, -7.02661427e-01],\n",
       "       [ 9.33075063e+00,  3.75393857e+00],\n",
       "       [-2.92671631e-01, -2.53610112e-01],\n",
       "       [-7.13139112e+00,  5.90300618e-01],\n",
       "       [-1.09470369e+00, -2.02712143e+00],\n",
       "       [ 5.05707368e-01,  8.63995763e+00],\n",
       "       [ 2.90361473e+00,  1.20300911e+01],\n",
       "       [ 8.71104186e+00,  2.10558582e+00],\n",
       "       [-5.97608777e+00,  1.85965057e+00]])"
      ]
     },
     "execution_count": 4,
     "metadata": {},
     "output_type": "execute_result"
    }
   ],
   "source": [
    "datos[0]"
   ]
  },
  {
   "cell_type": "code",
   "execution_count": 5,
   "metadata": {},
   "outputs": [
    {
     "data": {
      "text/plain": [
       "<matplotlib.collections.PathCollection at 0x20dd4a41278>"
      ]
     },
     "execution_count": 5,
     "metadata": {},
     "output_type": "execute_result"
    },
    {
     "data": {
      "image/png": "[encoded data removed]",
      "text/plain": [
       "<Figure size 432x288 with 1 Axes>"
      ]
     },
     "metadata": {
      "needs_background": "light"
     },
     "output_type": "display_data"
    }
   ],
   "source": [
    "plt.scatter(datos[0][:,0],datos[0][:,1])"
   ]
  },
  {
   "cell_type": "code",
   "execution_count": 6,
   "metadata": {},
   "outputs": [],
   "source": [
    "from sklearn.cluster import KMeans"
   ]
  },
  {
   "cell_type": "code",
   "execution_count": 7,
   "metadata": {},
   "outputs": [],
   "source": [
    "modelo = KMeans(n_clusters=4)"
   ]
  },
  {
   "cell_type": "code",
   "execution_count": 8,
   "metadata": {},
   "outputs": [
    {
     "data": {
      "text/plain": [
       "KMeans(algorithm='auto', copy_x=True, init='k-means++', max_iter=300,\n",
       "       n_clusters=4, n_init=10, n_jobs=None, precompute_distances='auto',\n",
       "       random_state=None, tol=0.0001, verbose=0)"
      ]
     },
     "execution_count": 8,
     "metadata": {},
     "output_type": "execute_result"
    }
   ],
   "source": [
    "modelo.fit(datos[0])"
   ]
  },
  {
   "cell_type": "code",
   "execution_count": 10,
   "metadata": {},
   "outputs": [
    {
     "data": {
      "text/plain": [
       "array([[-1.10036169, -1.54332714],\n",
       "       [ 2.82610261,  9.69117991],\n",
       "       [ 9.10724551,  3.39511798],\n",
       "       [-5.22928599, -0.92042466]])"
      ]
     },
     "execution_count": 10,
     "metadata": {},
     "output_type": "execute_result"
    }
   ],
   "source": [
    "modelo.cluster_centers_"
   ]
  },
  {
   "cell_type": "code",
   "execution_count": 11,
   "metadata": {},
   "outputs": [
    {
     "data": {
      "text/plain": [
       "array([1, 1, 1, 0, 1, 3, 3, 2, 0, 0, 1, 2, 2, 0, 0, 3, 2, 2, 3, 3, 0, 1,\n",
       "       0, 2, 1, 2, 2, 1, 0, 1, 3, 3, 0, 1, 3, 3, 2, 3, 2, 2, 3, 0, 1, 2,\n",
       "       3, 0, 2, 3, 1, 1, 3, 2, 0, 3, 3, 3, 3, 3, 2, 2, 2, 2, 1, 2, 0, 1,\n",
       "       2, 0, 0, 1, 3, 1, 2, 3, 2, 3, 0, 2, 0, 1, 0, 3, 3, 0, 1, 1, 0, 1,\n",
       "       1, 2, 3, 0, 1, 0, 1, 1, 2, 0, 2, 1, 0, 1, 1, 1, 1, 2, 0, 2, 0, 3,\n",
       "       1, 3, 3, 0, 1, 0, 0, 2, 3, 0, 3, 0, 1, 2, 0, 1, 2, 0, 3, 0, 1, 1,\n",
       "       0, 1, 1, 1, 0, 2, 2, 2, 0, 0, 0, 1, 1, 0, 3, 1, 1, 3, 3, 2, 2, 1,\n",
       "       2, 2, 0, 3, 2, 0, 2, 0, 3, 2, 3, 2, 3, 2, 2, 0, 3, 2, 3, 0, 1, 0,\n",
       "       0, 2, 3, 3, 1, 3, 2, 0, 0, 3, 1, 2, 3, 3, 1, 0, 2, 0, 3, 0, 1, 1,\n",
       "       2, 3])"
      ]
     },
     "execution_count": 11,
     "metadata": {},
     "output_type": "execute_result"
    }
   ],
   "source": [
    "modelo.labels_"
   ]
  },
  {
   "cell_type": "code",
   "execution_count": 12,
   "metadata": {},
   "outputs": [
    {
     "data": {
      "text/plain": [
       "array([2, 2, 2, 0, 2, 1, 1, 3, 0, 0, 2, 3, 3, 0, 0, 1, 3, 3, 1, 1, 0, 2,\n",
       "       0, 3, 2, 3, 3, 2, 0, 2, 1, 1, 0, 2, 1, 1, 3, 1, 3, 3, 1, 0, 2, 3,\n",
       "       1, 0, 3, 1, 2, 2, 1, 3, 0, 1, 1, 1, 1, 1, 3, 3, 3, 3, 2, 3, 0, 2,\n",
       "       3, 1, 0, 2, 1, 2, 3, 1, 3, 1, 0, 3, 0, 2, 0, 1, 1, 0, 2, 2, 0, 2,\n",
       "       2, 3, 1, 0, 2, 0, 2, 2, 3, 0, 3, 2, 0, 2, 2, 2, 2, 3, 0, 3, 0, 1,\n",
       "       2, 1, 1, 0, 2, 0, 0, 3, 1, 0, 1, 0, 2, 3, 0, 2, 3, 0, 1, 1, 2, 2,\n",
       "       0, 2, 2, 2, 0, 3, 3, 3, 0, 0, 0, 2, 2, 0, 1, 2, 2, 1, 1, 3, 3, 2,\n",
       "       3, 3, 0, 1, 3, 0, 3, 0, 1, 3, 1, 3, 1, 3, 3, 0, 1, 3, 1, 0, 2, 0,\n",
       "       0, 3, 1, 1, 2, 1, 3, 0, 0, 1, 2, 3, 1, 1, 2, 0, 3, 0, 1, 0, 2, 2,\n",
       "       3, 1])"
      ]
     },
     "execution_count": 12,
     "metadata": {},
     "output_type": "execute_result"
    }
   ],
   "source": [
    "datos[1]"
   ]
  },
  {
   "cell_type": "code",
   "execution_count": 18,
   "metadata": {},
   "outputs": [
    {
     "data": {
      "text/plain": [
       "Text(0.5, 1.0, 'Datos originales')"
      ]
     },
     "execution_count": 18,
     "metadata": {},
     "output_type": "execute_result"
    },
    {
     "data": {
      "image/png": "[encoded data removed]",
      "text/plain": [
       "<Figure size 864x288 with 2 Axes>"
      ]
     },
     "metadata": {
      "needs_background": "light"
     },
     "output_type": "display_data"
    }
   ],
   "source": [
    "fig, (ax1,ax2) = plt.subplots(1,2,figsize=(12,4))\n",
    "\n",
    "ax1.scatter(datos[0][:,0], datos[0][:,1], c=modelo.labels_)\n",
    "ax1.set_title('Algoritmo k-medias')\n",
    "\n",
    "ax2.scatter(datos[0][:,0], datos[0][:,1], c=modelo.labels_)\n",
    "ax2.set_title('Datos originales')"
   ]
  },
  {
   "cell_type": "code",
   "execution_count": null,
   "metadata": {},
   "outputs": [],
   "source": []
  }
 ],
 "metadata": {
  "kernelspec": {
   "display_name": "Python 3",
   "language": "python",
   "name": "python3"
  },
  "language_info": {
   "codemirror_mode": {
    "name": "ipython",
    "version": 3
   },
   "file_extension": ".py",
   "mimetype": "text/x-python",
   "name": "python",
   "nbconvert_exporter": "python",
   "pygments_lexer": "ipython3",
   "version": "3.7.3"
  }
 },
 "nbformat": 4,
 "nbformat_minor": 2
}
