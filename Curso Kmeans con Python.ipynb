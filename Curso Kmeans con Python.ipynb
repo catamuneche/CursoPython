{
 "cells": [
  {
   "cell_type": "code",
   "execution_count": 1,
   "metadata": {},
   "outputs": [],
   "source": [
    "import numpy as np\n",
    "import pandas as pd\n",
    "import matplotlib.pyplot as plt\n",
    "import seaborn as sns\n",
    "from sklearn.model_selection import train_test_split"
   ]
  },
  {
   "cell_type": "code",
   "execution_count": 2,
   "metadata": {},
   "outputs": [],
   "source": [
    "from sklearn.datasets import make_blobs"
   ]
  },
  {
   "cell_type": "code",
   "execution_count": 3,
   "metadata": {},
   "outputs": [
    {
     "data": {
      "text/plain": [
       "(array([[ 4.80981754, -3.46894021],\n",
       "        [ 3.63683261, -4.43259656],\n",
       "        [ 3.49341212, -2.7506891 ],\n",
       "        [ 1.92596977, -5.49978424],\n",
       "        [ 2.72825301, -3.84151863],\n",
       "        [ 2.10749439, -5.5414302 ],\n",
       "        [ 4.49849395,  4.61821593],\n",
       "        [ 3.81563025, -4.78641743],\n",
       "        [ 5.60105203,  4.27519091],\n",
       "        [ 5.53227475,  3.86732466],\n",
       "        [ 4.83736851, -5.18934401],\n",
       "        [ 7.23897832,  5.30820107],\n",
       "        [ 1.85123003, -8.12964593],\n",
       "        [ 2.58523383, -4.48409815],\n",
       "        [ 1.30033011, -4.71673609],\n",
       "        [ 4.59900995, -4.09451635],\n",
       "        [ 5.99240125, -3.47550663],\n",
       "        [ 1.54105039, -5.08705286],\n",
       "        [ 5.83111348,  6.29031648],\n",
       "        [ 3.74192015,  4.33132476],\n",
       "        [ 3.38122621, -5.230324  ],\n",
       "        [ 3.53869856, -1.7972677 ],\n",
       "        [ 4.29476332, -3.71871503],\n",
       "        [ 5.88833431,  3.38661818],\n",
       "        [ 5.75851299,  5.53080428],\n",
       "        [ 6.33609067,  4.91993098],\n",
       "        [ 5.24819529,  5.06821211],\n",
       "        [ 3.72987817, -3.12207714],\n",
       "        [ 2.92742463, -6.36191128],\n",
       "        [ 2.22537552, -7.99647849],\n",
       "        [ 4.07835051, -4.59157917],\n",
       "        [ 5.43122792, -2.37656736],\n",
       "        [ 2.74145187, -8.23438455],\n",
       "        [ 4.05284438, -2.87150766],\n",
       "        [ 0.80161588, -3.03066312],\n",
       "        [ 6.49799541, -3.802579  ],\n",
       "        [ 5.17254775, -2.80105227],\n",
       "        [ 4.83754471,  5.53035959],\n",
       "        [ 5.53751146,  4.50858685],\n",
       "        [ 3.1057429 , -4.06787945],\n",
       "        [ 5.52955855, -3.50134454],\n",
       "        [ 5.39102063,  5.77550457],\n",
       "        [ 4.46961684, -5.68247208],\n",
       "        [ 0.18269527, -5.25249116],\n",
       "        [ 5.32281762,  6.76705915],\n",
       "        [ 6.30136789, -3.11876632],\n",
       "        [ 2.86813106,  4.62202627],\n",
       "        [ 2.5553719 , -5.31746833],\n",
       "        [ 1.69804178, -4.95104567],\n",
       "        [ 1.48259092, -6.2813736 ],\n",
       "        [ 4.76699868,  6.45257845],\n",
       "        [-0.19237607, -6.31163864],\n",
       "        [ 2.45783635, -4.38018233],\n",
       "        [ 4.88052936, -1.68177498],\n",
       "        [ 4.03696257, -2.91620726],\n",
       "        [ 5.64949462,  4.44793382],\n",
       "        [ 2.33288971, -4.18774312],\n",
       "        [ 0.9249194 , -5.46957547],\n",
       "        [ 4.01848738, -2.6856344 ],\n",
       "        [ 5.42374792, -2.36790403],\n",
       "        [ 0.99986752, -7.50866122],\n",
       "        [ 2.06550634, -5.66703818],\n",
       "        [ 1.22422392, -6.78989056],\n",
       "        [ 5.74444677, -3.35356322],\n",
       "        [ 6.53148127,  6.01944841],\n",
       "        [ 4.47495065,  3.28778005],\n",
       "        [ 3.34302869, -6.71775387],\n",
       "        [ 5.7733396 , -5.90768006],\n",
       "        [ 5.42489376, -4.73209576],\n",
       "        [ 2.3302791 , -4.00664948],\n",
       "        [ 6.38784101, -4.54018007],\n",
       "        [ 4.71666129, -4.10605194],\n",
       "        [ 1.81020448, -5.5153905 ],\n",
       "        [ 4.49155285,  6.40197223],\n",
       "        [ 1.37275508, -4.66490673],\n",
       "        [ 1.79760727, -7.07097628],\n",
       "        [ 1.18526022, -7.90304643],\n",
       "        [ 1.08326954, -5.06964801],\n",
       "        [ 5.66756064,  5.30997879],\n",
       "        [ 3.49614714, -2.51109685],\n",
       "        [ 6.70424207, -3.13636036],\n",
       "        [ 2.49526976, -2.9253415 ],\n",
       "        [ 1.53628409, -6.59946915],\n",
       "        [ 5.62700811, -4.16782916],\n",
       "        [ 5.7053289 , -3.71765998],\n",
       "        [ 4.88053004,  3.54979366],\n",
       "        [ 0.83998394, -7.1677291 ],\n",
       "        [ 0.54982491, -5.94288135],\n",
       "        [ 2.98032732, -4.36391024],\n",
       "        [ 5.49184303, -2.23547994],\n",
       "        [ 1.17495743, -5.77705678],\n",
       "        [ 4.3395098 , -3.69754581],\n",
       "        [ 2.51764582, -8.31697668],\n",
       "        [-0.21060095, -5.13735103],\n",
       "        [ 5.97308997,  5.58909565],\n",
       "        [ 6.80139727,  5.76876898],\n",
       "        [ 4.67540703, -6.50323611],\n",
       "        [ 0.63146238, -6.94229136],\n",
       "        [ 6.09607435,  5.03231999],\n",
       "        [ 2.99222465, -4.77250218],\n",
       "        [ 7.85628544, -4.21580703],\n",
       "        [ 1.53219527, -4.70881508],\n",
       "        [ 0.95068331, -6.44895542],\n",
       "        [ 2.42841589, -4.84051369],\n",
       "        [ 1.26748285, -7.45292165],\n",
       "        [ 2.39783805, -5.98171521],\n",
       "        [ 0.91325714, -6.10579843],\n",
       "        [ 5.14412097, -5.31368795],\n",
       "        [ 0.86849679, -5.92981495],\n",
       "        [ 1.84079723, -6.52828141],\n",
       "        [ 2.82749963, -3.88092354],\n",
       "        [ 7.00232559, -4.73876237],\n",
       "        [ 2.13969166, -6.43041656],\n",
       "        [ 4.43379439, -4.07389298],\n",
       "        [ 5.40390074,  5.64351685],\n",
       "        [ 4.36682489,  4.44185342],\n",
       "        [ 2.55413259, -5.51390285],\n",
       "        [ 2.36865668, -5.29813388],\n",
       "        [ 6.02144817,  4.75468419],\n",
       "        [ 5.75589478, -2.31897733],\n",
       "        [-0.69266269, -7.86705546],\n",
       "        [ 6.10970294, -3.99765287],\n",
       "        [ 2.6392198 , -2.79387889],\n",
       "        [ 6.99307122, -3.48734521],\n",
       "        [ 4.46694127, -4.87735448],\n",
       "        [ 0.44245184, -7.94844096],\n",
       "        [ 2.20140431, -5.26259236],\n",
       "        [ 1.50273683, -5.77948559],\n",
       "        [ 4.85233351, -4.76187468],\n",
       "        [ 5.54427642,  5.36212829],\n",
       "        [ 0.34753847, -4.94019497],\n",
       "        [ 5.90094899, -3.17637196],\n",
       "        [ 4.30656109, -4.18600125],\n",
       "        [ 3.98698087, -3.64533924],\n",
       "        [ 1.33875132, -7.08871255],\n",
       "        [-0.68898518, -6.88296945],\n",
       "        [ 2.34781202, -7.16366449],\n",
       "        [ 4.0489816 , -4.56557894],\n",
       "        [ 6.34598648,  6.71927777],\n",
       "        [ 0.90763684, -5.68148699],\n",
       "        [ 4.03263984, -3.3414308 ],\n",
       "        [ 2.55609669, -4.39198205],\n",
       "        [ 5.37518604,  4.82641883],\n",
       "        [ 6.65710305,  4.23532824],\n",
       "        [ 1.72253886, -8.02172089],\n",
       "        [ 5.38669561,  5.03933809],\n",
       "        [ 6.17695343,  4.72629675],\n",
       "        [ 2.00472672, -3.17954726],\n",
       "        [ 4.37319932, -5.7747742 ],\n",
       "        [ 1.44399448, -7.25112457],\n",
       "        [ 5.42643368,  5.86476716],\n",
       "        [ 2.09722605, -6.15491958],\n",
       "        [ 3.7531531 , -5.63135141],\n",
       "        [ 5.57705614, -5.61861234],\n",
       "        [ 8.08787531,  4.67871142],\n",
       "        [ 2.25050407, -7.20406903],\n",
       "        [ 5.30699841, -3.34106018],\n",
       "        [ 1.9218962 , -2.73040906],\n",
       "        [ 2.85112225, -7.9740744 ],\n",
       "        [ 3.34425436, -3.4888372 ],\n",
       "        [ 2.24313017, -5.01879149],\n",
       "        [ 3.06109101,  3.15371032],\n",
       "        [ 5.58309586,  5.23815448],\n",
       "        [ 4.25501524, -4.67741574],\n",
       "        [ 1.87416451, -6.28136877],\n",
       "        [ 2.18015005, -5.66821248],\n",
       "        [ 4.50960708,  4.21481401],\n",
       "        [ 0.60584776, -7.72624667],\n",
       "        [ 5.88985682,  4.88016366],\n",
       "        [ 2.37552191, -8.60975599],\n",
       "        [ 5.93178822, -3.4456072 ],\n",
       "        [ 1.73821962, -7.18993731],\n",
       "        [ 5.86531271,  4.78519476],\n",
       "        [ 4.64745096, -4.17722191],\n",
       "        [ 7.11384768, -3.47738438],\n",
       "        [ 3.92724888,  5.62571757],\n",
       "        [ 3.72153123,  4.91502027],\n",
       "        [ 5.53620291, -4.99895488],\n",
       "        [ 4.84747904,  3.56317118],\n",
       "        [ 1.20760536, -7.50218756],\n",
       "        [ 4.40697268,  4.05925729],\n",
       "        [ 1.22865963, -5.60495146],\n",
       "        [ 5.28389747, -4.03401191],\n",
       "        [ 2.2795958 , -6.75041741],\n",
       "        [ 2.53599472, -5.25000697],\n",
       "        [ 4.27804065, -4.78488562],\n",
       "        [ 0.27765383, -8.50620923],\n",
       "        [ 5.71166003,  5.52182928],\n",
       "        [ 3.11015559, -3.08731101],\n",
       "        [ 2.59911247, -4.39546397],\n",
       "        [ 6.07033947,  5.17134409],\n",
       "        [ 1.04397031, -5.17090451],\n",
       "        [ 2.02659423, -3.77503844],\n",
       "        [ 6.14475056, -4.02060173],\n",
       "        [ 0.38640308, -6.48274983],\n",
       "        [ 2.86378819, -4.34905117],\n",
       "        [ 5.96978665,  4.81110557],\n",
       "        [ 5.36613662,  3.79347602],\n",
       "        [ 4.33281037, -1.7037581 ],\n",
       "        [ 5.10495081,  5.75250094]]),\n",
       " array([3, 2, 3, 3, 3, 1, 0, 3, 0, 0, 2, 0, 1, 3, 3, 2, 2, 3, 0, 0, 3, 2,\n",
       "        2, 0, 0, 0, 0, 3, 1, 1, 2, 2, 1, 2, 3, 2, 2, 0, 0, 3, 2, 0, 3, 1,\n",
       "        0, 2, 0, 3, 3, 1, 0, 1, 3, 2, 2, 0, 3, 1, 2, 2, 1, 3, 1, 2, 0, 0,\n",
       "        3, 2, 2, 3, 2, 2, 1, 0, 3, 1, 1, 3, 0, 2, 2, 3, 1, 2, 2, 0, 1, 1,\n",
       "        3, 2, 1, 2, 1, 1, 0, 0, 3, 1, 0, 3, 2, 3, 1, 3, 1, 3, 1, 2, 1, 3,\n",
       "        3, 2, 1, 2, 0, 0, 3, 3, 0, 2, 1, 2, 3, 2, 3, 1, 3, 1, 2, 0, 1, 2,\n",
       "        2, 2, 1, 1, 1, 3, 0, 1, 2, 3, 0, 0, 1, 0, 0, 3, 3, 1, 0, 1, 3, 2,\n",
       "        0, 1, 2, 3, 1, 3, 3, 0, 0, 3, 1, 3, 0, 1, 0, 1, 2, 1, 0, 2, 2, 0,\n",
       "        0, 2, 0, 1, 0, 1, 2, 1, 1, 2, 1, 0, 3, 3, 0, 1, 3, 2, 1, 3, 0, 0,\n",
       "        2, 0]))"
      ]
     },
     "execution_count": 3,
     "metadata": {},
     "output_type": "execute_result"
    }
   ],
   "source": [
    "datos = make_blobs(n_samples=200, n_features=2, centers=4)\n",
    "datos"
   ]
  },
  {
   "cell_type": "code",
   "execution_count": 4,
   "metadata": {},
   "outputs": [
    {
     "data": {
      "text/plain": [
       "array([[ 4.80981754, -3.46894021],\n",
       "       [ 3.63683261, -4.43259656],\n",
       "       [ 3.49341212, -2.7506891 ],\n",
       "       [ 1.92596977, -5.49978424],\n",
       "       [ 2.72825301, -3.84151863],\n",
       "       [ 2.10749439, -5.5414302 ],\n",
       "       [ 4.49849395,  4.61821593],\n",
       "       [ 3.81563025, -4.78641743],\n",
       "       [ 5.60105203,  4.27519091],\n",
       "       [ 5.53227475,  3.86732466],\n",
       "       [ 4.83736851, -5.18934401],\n",
       "       [ 7.23897832,  5.30820107],\n",
       "       [ 1.85123003, -8.12964593],\n",
       "       [ 2.58523383, -4.48409815],\n",
       "       [ 1.30033011, -4.71673609],\n",
       "       [ 4.59900995, -4.09451635],\n",
       "       [ 5.99240125, -3.47550663],\n",
       "       [ 1.54105039, -5.08705286],\n",
       "       [ 5.83111348,  6.29031648],\n",
       "       [ 3.74192015,  4.33132476],\n",
       "       [ 3.38122621, -5.230324  ],\n",
       "       [ 3.53869856, -1.7972677 ],\n",
       "       [ 4.29476332, -3.71871503],\n",
       "       [ 5.88833431,  3.38661818],\n",
       "       [ 5.75851299,  5.53080428],\n",
       "       [ 6.33609067,  4.91993098],\n",
       "       [ 5.24819529,  5.06821211],\n",
       "       [ 3.72987817, -3.12207714],\n",
       "       [ 2.92742463, -6.36191128],\n",
       "       [ 2.22537552, -7.99647849],\n",
       "       [ 4.07835051, -4.59157917],\n",
       "       [ 5.43122792, -2.37656736],\n",
       "       [ 2.74145187, -8.23438455],\n",
       "       [ 4.05284438, -2.87150766],\n",
       "       [ 0.80161588, -3.03066312],\n",
       "       [ 6.49799541, -3.802579  ],\n",
       "       [ 5.17254775, -2.80105227],\n",
       "       [ 4.83754471,  5.53035959],\n",
       "       [ 5.53751146,  4.50858685],\n",
       "       [ 3.1057429 , -4.06787945],\n",
       "       [ 5.52955855, -3.50134454],\n",
       "       [ 5.39102063,  5.77550457],\n",
       "       [ 4.46961684, -5.68247208],\n",
       "       [ 0.18269527, -5.25249116],\n",
       "       [ 5.32281762,  6.76705915],\n",
       "       [ 6.30136789, -3.11876632],\n",
       "       [ 2.86813106,  4.62202627],\n",
       "       [ 2.5553719 , -5.31746833],\n",
       "       [ 1.69804178, -4.95104567],\n",
       "       [ 1.48259092, -6.2813736 ],\n",
       "       [ 4.76699868,  6.45257845],\n",
       "       [-0.19237607, -6.31163864],\n",
       "       [ 2.45783635, -4.38018233],\n",
       "       [ 4.88052936, -1.68177498],\n",
       "       [ 4.03696257, -2.91620726],\n",
       "       [ 5.64949462,  4.44793382],\n",
       "       [ 2.33288971, -4.18774312],\n",
       "       [ 0.9249194 , -5.46957547],\n",
       "       [ 4.01848738, -2.6856344 ],\n",
       "       [ 5.42374792, -2.36790403],\n",
       "       [ 0.99986752, -7.50866122],\n",
       "       [ 2.06550634, -5.66703818],\n",
       "       [ 1.22422392, -6.78989056],\n",
       "       [ 5.74444677, -3.35356322],\n",
       "       [ 6.53148127,  6.01944841],\n",
       "       [ 4.47495065,  3.28778005],\n",
       "       [ 3.34302869, -6.71775387],\n",
       "       [ 5.7733396 , -5.90768006],\n",
       "       [ 5.42489376, -4.73209576],\n",
       "       [ 2.3302791 , -4.00664948],\n",
       "       [ 6.38784101, -4.54018007],\n",
       "       [ 4.71666129, -4.10605194],\n",
       "       [ 1.81020448, -5.5153905 ],\n",
       "       [ 4.49155285,  6.40197223],\n",
       "       [ 1.37275508, -4.66490673],\n",
       "       [ 1.79760727, -7.07097628],\n",
       "       [ 1.18526022, -7.90304643],\n",
       "       [ 1.08326954, -5.06964801],\n",
       "       [ 5.66756064,  5.30997879],\n",
       "       [ 3.49614714, -2.51109685],\n",
       "       [ 6.70424207, -3.13636036],\n",
       "       [ 2.49526976, -2.9253415 ],\n",
       "       [ 1.53628409, -6.59946915],\n",
       "       [ 5.62700811, -4.16782916],\n",
       "       [ 5.7053289 , -3.71765998],\n",
       "       [ 4.88053004,  3.54979366],\n",
       "       [ 0.83998394, -7.1677291 ],\n",
       "       [ 0.54982491, -5.94288135],\n",
       "       [ 2.98032732, -4.36391024],\n",
       "       [ 5.49184303, -2.23547994],\n",
       "       [ 1.17495743, -5.77705678],\n",
       "       [ 4.3395098 , -3.69754581],\n",
       "       [ 2.51764582, -8.31697668],\n",
       "       [-0.21060095, -5.13735103],\n",
       "       [ 5.97308997,  5.58909565],\n",
       "       [ 6.80139727,  5.76876898],\n",
       "       [ 4.67540703, -6.50323611],\n",
       "       [ 0.63146238, -6.94229136],\n",
       "       [ 6.09607435,  5.03231999],\n",
       "       [ 2.99222465, -4.77250218],\n",
       "       [ 7.85628544, -4.21580703],\n",
       "       [ 1.53219527, -4.70881508],\n",
       "       [ 0.95068331, -6.44895542],\n",
       "       [ 2.42841589, -4.84051369],\n",
       "       [ 1.26748285, -7.45292165],\n",
       "       [ 2.39783805, -5.98171521],\n",
       "       [ 0.91325714, -6.10579843],\n",
       "       [ 5.14412097, -5.31368795],\n",
       "       [ 0.86849679, -5.92981495],\n",
       "       [ 1.84079723, -6.52828141],\n",
       "       [ 2.82749963, -3.88092354],\n",
       "       [ 7.00232559, -4.73876237],\n",
       "       [ 2.13969166, -6.43041656],\n",
       "       [ 4.43379439, -4.07389298],\n",
       "       [ 5.40390074,  5.64351685],\n",
       "       [ 4.36682489,  4.44185342],\n",
       "       [ 2.55413259, -5.51390285],\n",
       "       [ 2.36865668, -5.29813388],\n",
       "       [ 6.02144817,  4.75468419],\n",
       "       [ 5.75589478, -2.31897733],\n",
       "       [-0.69266269, -7.86705546],\n",
       "       [ 6.10970294, -3.99765287],\n",
       "       [ 2.6392198 , -2.79387889],\n",
       "       [ 6.99307122, -3.48734521],\n",
       "       [ 4.46694127, -4.87735448],\n",
       "       [ 0.44245184, -7.94844096],\n",
       "       [ 2.20140431, -5.26259236],\n",
       "       [ 1.50273683, -5.77948559],\n",
       "       [ 4.85233351, -4.76187468],\n",
       "       [ 5.54427642,  5.36212829],\n",
       "       [ 0.34753847, -4.94019497],\n",
       "       [ 5.90094899, -3.17637196],\n",
       "       [ 4.30656109, -4.18600125],\n",
       "       [ 3.98698087, -3.64533924],\n",
       "       [ 1.33875132, -7.08871255],\n",
       "       [-0.68898518, -6.88296945],\n",
       "       [ 2.34781202, -7.16366449],\n",
       "       [ 4.0489816 , -4.56557894],\n",
       "       [ 6.34598648,  6.71927777],\n",
       "       [ 0.90763684, -5.68148699],\n",
       "       [ 4.03263984, -3.3414308 ],\n",
       "       [ 2.55609669, -4.39198205],\n",
       "       [ 5.37518604,  4.82641883],\n",
       "       [ 6.65710305,  4.23532824],\n",
       "       [ 1.72253886, -8.02172089],\n",
       "       [ 5.38669561,  5.03933809],\n",
       "       [ 6.17695343,  4.72629675],\n",
       "       [ 2.00472672, -3.17954726],\n",
       "       [ 4.37319932, -5.7747742 ],\n",
       "       [ 1.44399448, -7.25112457],\n",
       "       [ 5.42643368,  5.86476716],\n",
       "       [ 2.09722605, -6.15491958],\n",
       "       [ 3.7531531 , -5.63135141],\n",
       "       [ 5.57705614, -5.61861234],\n",
       "       [ 8.08787531,  4.67871142],\n",
       "       [ 2.25050407, -7.20406903],\n",
       "       [ 5.30699841, -3.34106018],\n",
       "       [ 1.9218962 , -2.73040906],\n",
       "       [ 2.85112225, -7.9740744 ],\n",
       "       [ 3.34425436, -3.4888372 ],\n",
       "       [ 2.24313017, -5.01879149],\n",
       "       [ 3.06109101,  3.15371032],\n",
       "       [ 5.58309586,  5.23815448],\n",
       "       [ 4.25501524, -4.67741574],\n",
       "       [ 1.87416451, -6.28136877],\n",
       "       [ 2.18015005, -5.66821248],\n",
       "       [ 4.50960708,  4.21481401],\n",
       "       [ 0.60584776, -7.72624667],\n",
       "       [ 5.88985682,  4.88016366],\n",
       "       [ 2.37552191, -8.60975599],\n",
       "       [ 5.93178822, -3.4456072 ],\n",
       "       [ 1.73821962, -7.18993731],\n",
       "       [ 5.86531271,  4.78519476],\n",
       "       [ 4.64745096, -4.17722191],\n",
       "       [ 7.11384768, -3.47738438],\n",
       "       [ 3.92724888,  5.62571757],\n",
       "       [ 3.72153123,  4.91502027],\n",
       "       [ 5.53620291, -4.99895488],\n",
       "       [ 4.84747904,  3.56317118],\n",
       "       [ 1.20760536, -7.50218756],\n",
       "       [ 4.40697268,  4.05925729],\n",
       "       [ 1.22865963, -5.60495146],\n",
       "       [ 5.28389747, -4.03401191],\n",
       "       [ 2.2795958 , -6.75041741],\n",
       "       [ 2.53599472, -5.25000697],\n",
       "       [ 4.27804065, -4.78488562],\n",
       "       [ 0.27765383, -8.50620923],\n",
       "       [ 5.71166003,  5.52182928],\n",
       "       [ 3.11015559, -3.08731101],\n",
       "       [ 2.59911247, -4.39546397],\n",
       "       [ 6.07033947,  5.17134409],\n",
       "       [ 1.04397031, -5.17090451],\n",
       "       [ 2.02659423, -3.77503844],\n",
       "       [ 6.14475056, -4.02060173],\n",
       "       [ 0.38640308, -6.48274983],\n",
       "       [ 2.86378819, -4.34905117],\n",
       "       [ 5.96978665,  4.81110557],\n",
       "       [ 5.36613662,  3.79347602],\n",
       "       [ 4.33281037, -1.7037581 ],\n",
       "       [ 5.10495081,  5.75250094]])"
      ]
     },
     "execution_count": 4,
     "metadata": {},
     "output_type": "execute_result"
    }
   ],
   "source": [
    "datos[0]"
   ]
  },
  {
   "cell_type": "code",
   "execution_count": 5,
   "metadata": {},
   "outputs": [
    {
     "data": {
      "text/plain": [
       "<matplotlib.collections.PathCollection at 0x2272a3b3c88>"
      ]
     },
     "execution_count": 5,
     "metadata": {},
     "output_type": "execute_result"
    },
    {
     "data": {
      "image/png": "[encoded data removed]",
      "text/plain": [
       "<Figure size 432x288 with 1 Axes>"
      ]
     },
     "metadata": {
      "needs_background": "light"
     },
     "output_type": "display_data"
    }
   ],
   "source": [
    "plt.scatter(datos[0][:,0],datos[0][:,1])"
   ]
  },
  {
   "cell_type": "code",
   "execution_count": 6,
   "metadata": {},
   "outputs": [],
   "source": [
    "from sklearn.cluster import KMeans"
   ]
  },
  {
   "cell_type": "code",
   "execution_count": 7,
   "metadata": {},
   "outputs": [],
   "source": [
    "modelo = KMeans(n_clusters=4)"
   ]
  },
  {
   "cell_type": "code",
   "execution_count": 8,
   "metadata": {},
   "outputs": [
    {
     "data": {
      "text/plain": [
       "KMeans(algorithm='auto', copy_x=True, init='k-means++', max_iter=300,\n",
       "       n_clusters=4, n_init=10, n_jobs=None, precompute_distances='auto',\n",
       "       random_state=None, tol=0.0001, verbose=0)"
      ]
     },
     "execution_count": 8,
     "metadata": {},
     "output_type": "execute_result"
    }
   ],
   "source": [
    "modelo.fit(datos[0])"
   ]
  },
  {
   "cell_type": "code",
   "execution_count": 9,
   "metadata": {},
   "outputs": [
    {
     "data": {
      "text/plain": [
       "array([[ 5.11977405, -3.816855  ],\n",
       "       [ 5.39585749,  4.96874253],\n",
       "       [ 1.36683129, -6.88460489],\n",
       "       [ 2.32239638, -4.54354976]])"
      ]
     },
     "execution_count": 9,
     "metadata": {},
     "output_type": "execute_result"
    }
   ],
   "source": [
    "modelo.cluster_centers_"
   ]
  },
  {
   "cell_type": "code",
   "execution_count": 10,
   "metadata": {},
   "outputs": [
    {
     "data": {
      "text/plain": [
       "array([0, 3, 0, 3, 3, 3, 1, 3, 1, 1, 0, 1, 2, 3, 3, 0, 0, 3, 1, 1, 3, 0,\n",
       "       0, 1, 1, 1, 1, 0, 2, 2, 0, 0, 2, 0, 3, 0, 0, 1, 1, 3, 0, 1, 0, 2,\n",
       "       1, 0, 1, 3, 3, 2, 1, 2, 3, 0, 0, 1, 3, 2, 0, 0, 2, 3, 2, 0, 1, 1,\n",
       "       2, 0, 0, 3, 0, 0, 3, 1, 3, 2, 2, 3, 1, 0, 0, 3, 2, 0, 0, 1, 2, 2,\n",
       "       3, 0, 2, 0, 2, 2, 1, 1, 0, 2, 1, 3, 0, 3, 2, 3, 2, 2, 2, 0, 2, 2,\n",
       "       3, 0, 2, 0, 1, 1, 3, 3, 1, 0, 2, 0, 3, 0, 0, 2, 3, 2, 0, 1, 3, 0,\n",
       "       0, 0, 2, 2, 2, 0, 1, 2, 0, 3, 1, 1, 2, 1, 1, 3, 0, 2, 1, 2, 3, 0,\n",
       "       1, 2, 0, 3, 2, 3, 3, 1, 1, 0, 2, 3, 1, 2, 1, 2, 0, 2, 1, 0, 0, 1,\n",
       "       1, 0, 1, 2, 1, 2, 0, 2, 3, 0, 2, 1, 3, 3, 1, 3, 3, 0, 2, 3, 1, 1,\n",
       "       0, 1])"
      ]
     },
     "execution_count": 10,
     "metadata": {},
     "output_type": "execute_result"
    }
   ],
   "source": [
    "modelo.labels_"
   ]
  },
  {
   "cell_type": "code",
   "execution_count": 11,
   "metadata": {},
   "outputs": [
    {
     "data": {
      "text/plain": [
       "array([3, 2, 3, 3, 3, 1, 0, 3, 0, 0, 2, 0, 1, 3, 3, 2, 2, 3, 0, 0, 3, 2,\n",
       "       2, 0, 0, 0, 0, 3, 1, 1, 2, 2, 1, 2, 3, 2, 2, 0, 0, 3, 2, 0, 3, 1,\n",
       "       0, 2, 0, 3, 3, 1, 0, 1, 3, 2, 2, 0, 3, 1, 2, 2, 1, 3, 1, 2, 0, 0,\n",
       "       3, 2, 2, 3, 2, 2, 1, 0, 3, 1, 1, 3, 0, 2, 2, 3, 1, 2, 2, 0, 1, 1,\n",
       "       3, 2, 1, 2, 1, 1, 0, 0, 3, 1, 0, 3, 2, 3, 1, 3, 1, 3, 1, 2, 1, 3,\n",
       "       3, 2, 1, 2, 0, 0, 3, 3, 0, 2, 1, 2, 3, 2, 3, 1, 3, 1, 2, 0, 1, 2,\n",
       "       2, 2, 1, 1, 1, 3, 0, 1, 2, 3, 0, 0, 1, 0, 0, 3, 3, 1, 0, 1, 3, 2,\n",
       "       0, 1, 2, 3, 1, 3, 3, 0, 0, 3, 1, 3, 0, 1, 0, 1, 2, 1, 0, 2, 2, 0,\n",
       "       0, 2, 0, 1, 0, 1, 2, 1, 1, 2, 1, 0, 3, 3, 0, 1, 3, 2, 1, 3, 0, 0,\n",
       "       2, 0])"
      ]
     },
     "execution_count": 11,
     "metadata": {},
     "output_type": "execute_result"
    }
   ],
   "source": [
    "datos[1]"
   ]
  },
  {
   "cell_type": "code",
   "execution_count": 12,
   "metadata": {},
   "outputs": [
    {
     "data": {
      "text/plain": [
       "Text(0.5, 1.0, 'Datos originales')"
      ]
     },
     "execution_count": 12,
     "metadata": {},
     "output_type": "execute_result"
    },
    {
     "data": {
      "image/png": "[encoded data removed]",
      "text/plain": [
       "<Figure size 864x288 with 2 Axes>"
      ]
     },
     "metadata": {
      "needs_background": "light"
     },
     "output_type": "display_data"
    }
   ],
   "source": [
    "fig, (ax1,ax2) = plt.subplots(1,2,figsize=(12,4))\n",
    "\n",
    "ax1.scatter(datos[0][:,0], datos[0][:,1], c=modelo.labels_)\n",
    "ax1.set_title('Algoritmo k-medias')\n",
    "\n",
    "ax2.scatter(datos[0][:,0], datos[0][:,1], c=modelo.labels_)\n",
    "ax2.set_title('Datos originales')"
   ]
  },
  {
   "cell_type": "code",
   "execution_count": null,
   "metadata": {},
   "outputs": [],
   "source": []
  }
 ],
 "metadata": {
  "kernelspec": {
   "display_name": "Python 3",
   "language": "python",
   "name": "python3"
  },
  "language_info": {
   "codemirror_mode": {
    "name": "ipython",
    "version": 3
   },
   "file_extension": ".py",
   "mimetype": "text/x-python",
   "name": "python",
   "nbconvert_exporter": "python",
   "pygments_lexer": "ipython3",
   "version": "3.7.3"
  }
 },
 "nbformat": 4,
 "nbformat_minor": 2
}
