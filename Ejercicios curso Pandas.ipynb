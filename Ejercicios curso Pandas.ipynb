{
 "cells": [
  {
   "cell_type": "markdown",
   "metadata": {},
   "source": [
    "# Ejercicio 1"
   ]
  },
  {
   "cell_type": "raw",
   "metadata": {},
   "source": [
    "crear una lista 'asignaturas' con los textos 'matemáticas','física','historia'\n",
    "crear una lista con 'notas' con los valores 9,9,8\n",
    "crear una serie con la lista 'notas' como valores, y la lista 'asignaturas' como indices\n",
    "crear una variable 'nota_fisica' con la nota asignatura de física\n",
    "MEdiante el metodo print muestra la frase \"La nota de fisica es un ...(nota_fisica)\""
   ]
  },
  {
   "cell_type": "code",
   "execution_count": 1,
   "metadata": {},
   "outputs": [],
   "source": [
    "import numpy as np\n",
    "import pandas as pd"
   ]
  },
  {
   "cell_type": "code",
   "execution_count": 2,
   "metadata": {},
   "outputs": [
    {
     "data": {
      "text/plain": [
       "['matemáticas', 'física', 'historia']"
      ]
     },
     "execution_count": 2,
     "metadata": {},
     "output_type": "execute_result"
    }
   ],
   "source": [
    "asignaturas = ['matemáticas','física','historia']\n",
    "asignaturas"
   ]
  },
  {
   "cell_type": "code",
   "execution_count": 3,
   "metadata": {},
   "outputs": [
    {
     "data": {
      "text/plain": [
       "[9, 9, 8]"
      ]
     },
     "execution_count": 3,
     "metadata": {},
     "output_type": "execute_result"
    }
   ],
   "source": [
    "notas = [9,9,8]\n",
    "notas"
   ]
  },
  {
   "cell_type": "code",
   "execution_count": 6,
   "metadata": {},
   "outputs": [
    {
     "data": {
      "text/plain": [
       "matemáticas    9\n",
       "física         9\n",
       "historia       8\n",
       "dtype: int64"
      ]
     },
     "execution_count": 6,
     "metadata": {},
     "output_type": "execute_result"
    }
   ],
   "source": [
    "serie = pd.Series(notas,asignaturas)\n",
    "serie"
   ]
  },
  {
   "cell_type": "code",
   "execution_count": 8,
   "metadata": {},
   "outputs": [
    {
     "data": {
      "text/plain": [
       "9"
      ]
     },
     "execution_count": 8,
     "metadata": {},
     "output_type": "execute_result"
    }
   ],
   "source": [
    "nota_fisica = serie['física']\n",
    "nota_fisica"
   ]
  },
  {
   "cell_type": "code",
   "execution_count": 17,
   "metadata": {},
   "outputs": [
    {
     "name": "stdout",
     "output_type": "stream",
     "text": [
      "La nota de fisica es: 9\n"
     ]
    }
   ],
   "source": [
    "print(\"La nota de fisica es: {}\".format(nota_fisica) )"
   ]
  },
  {
   "cell_type": "code",
   "execution_count": 16,
   "metadata": {},
   "outputs": [
    {
     "name": "stdout",
     "output_type": "stream",
     "text": [
      "La nota de fisica es: 9\n"
     ]
    }
   ],
   "source": [
    "print(\"La nota de fisica es:\", nota_fisica )"
   ]
  },
  {
   "cell_type": "markdown",
   "metadata": {},
   "source": [
    "# Ejercicio 2"
   ]
  },
  {
   "cell_type": "raw",
   "metadata": {},
   "source": [
    "Crear un dataframe con las ventas de las tres oficinas para los meses de enero, febrero, marzo.\n",
    "Pasos a seguir:\n",
    "crear una variable \"ventas_enero\" que contenga una lista de 3 numero entero aleatorios entre 100 y 500\n",
    "crear una variable \"ventas_febrero\" que contenga una lista de 3 numero enteros aleatorios entre 100 y 500\n",
    "crear una variable \"ventas_marzo\" que contenga una lista de 3 numero enteros aleatorios entre 100 y 500\n",
    "crear una variable \"filas\" que contengan una lista de palabras 'ventas_enero','ventas_febrero','ventas_marzo'\n",
    "crear una variable \"columnas\" que contengan esta lista de palabras 'oficina1','oficina2','oficina3'\n",
    "crear una variable \"ventas\" que contenga una lista con los valores de ventas de enero, febrero y marzo\n",
    "crear una variable \"dataframe\" que contenga las ventas, filas y columnas\n",
    "Mediante \"print\" muestra el valor de \"Las ventas de enro para la oficina 1 son de .....\""
   ]
  },
  {
   "cell_type": "code",
   "execution_count": 18,
   "metadata": {},
   "outputs": [],
   "source": [
    "import numpy as np\n",
    "import pandas as pd"
   ]
  },
  {
   "cell_type": "code",
   "execution_count": 20,
   "metadata": {},
   "outputs": [
    {
     "data": {
      "text/plain": [
       "array([243, 108, 367])"
      ]
     },
     "execution_count": 20,
     "metadata": {},
     "output_type": "execute_result"
    }
   ],
   "source": [
    "ventas_enero = np.random.randint(100,500,3)\n",
    "ventas_enero"
   ]
  },
  {
   "cell_type": "code",
   "execution_count": 21,
   "metadata": {},
   "outputs": [
    {
     "data": {
      "text/plain": [
       "array([356, 146, 450])"
      ]
     },
     "execution_count": 21,
     "metadata": {},
     "output_type": "execute_result"
    }
   ],
   "source": [
    "ventas_febrero = np.random.randint(100,500,3)\n",
    "ventas_febrero"
   ]
  },
  {
   "cell_type": "code",
   "execution_count": 22,
   "metadata": {},
   "outputs": [
    {
     "data": {
      "text/plain": [
       "array([453, 265, 438])"
      ]
     },
     "execution_count": 22,
     "metadata": {},
     "output_type": "execute_result"
    }
   ],
   "source": [
    "ventas_marzo = np.random.randint(100,500,3)\n",
    "ventas_marzo"
   ]
  },
  {
   "cell_type": "code",
   "execution_count": 23,
   "metadata": {},
   "outputs": [
    {
     "data": {
      "text/plain": [
       "['ventas_enero', 'ventas_febrero', 'ventas_marzo']"
      ]
     },
     "execution_count": 23,
     "metadata": {},
     "output_type": "execute_result"
    }
   ],
   "source": [
    "filas = ['ventas_enero','ventas_febrero','ventas_marzo']\n",
    "filas"
   ]
  },
  {
   "cell_type": "code",
   "execution_count": 24,
   "metadata": {},
   "outputs": [
    {
     "data": {
      "text/plain": [
       "['oficina1', 'oficina2', 'oficina3']"
      ]
     },
     "execution_count": 24,
     "metadata": {},
     "output_type": "execute_result"
    }
   ],
   "source": [
    "columnas = ['oficina1','oficina2','oficina3']\n",
    "columnas"
   ]
  },
  {
   "cell_type": "code",
   "execution_count": 26,
   "metadata": {},
   "outputs": [
    {
     "data": {
      "text/plain": [
       "[array([243, 108, 367]), array([356, 146, 450]), array([453, 265, 438])]"
      ]
     },
     "execution_count": 26,
     "metadata": {},
     "output_type": "execute_result"
    }
   ],
   "source": [
    "ventas = [ventas_enero,ventas_febrero,ventas_marzo]\n",
    "ventas"
   ]
  },
  {
   "cell_type": "code",
   "execution_count": 27,
   "metadata": {},
   "outputs": [
    {
     "data": {
      "text/html": [
       "<div>\n",
       "<style scoped>\n",
       "    .dataframe tbody tr th:only-of-type {\n",
       "        vertical-align: middle;\n",
       "    }\n",
       "\n",
       "    .dataframe tbody tr th {\n",
       "        vertical-align: top;\n",
       "    }\n",
       "\n",
       "    .dataframe thead th {\n",
       "        text-align: right;\n",
       "    }\n",
       "</style>\n",
       "<table border=\"1\" class=\"dataframe\">\n",
       "  <thead>\n",
       "    <tr style=\"text-align: right;\">\n",
       "      <th></th>\n",
       "      <th>oficina1</th>\n",
       "      <th>oficina2</th>\n",
       "      <th>oficina3</th>\n",
       "    </tr>\n",
       "  </thead>\n",
       "  <tbody>\n",
       "    <tr>\n",
       "      <th>ventas_enero</th>\n",
       "      <td>243</td>\n",
       "      <td>108</td>\n",
       "      <td>367</td>\n",
       "    </tr>\n",
       "    <tr>\n",
       "      <th>ventas_febrero</th>\n",
       "      <td>356</td>\n",
       "      <td>146</td>\n",
       "      <td>450</td>\n",
       "    </tr>\n",
       "    <tr>\n",
       "      <th>ventas_marzo</th>\n",
       "      <td>453</td>\n",
       "      <td>265</td>\n",
       "      <td>438</td>\n",
       "    </tr>\n",
       "  </tbody>\n",
       "</table>\n",
       "</div>"
      ],
      "text/plain": [
       "                oficina1  oficina2  oficina3\n",
       "ventas_enero         243       108       367\n",
       "ventas_febrero       356       146       450\n",
       "ventas_marzo         453       265       438"
      ]
     },
     "execution_count": 27,
     "metadata": {},
     "output_type": "execute_result"
    }
   ],
   "source": [
    "dataframe = pd.DataFrame(ventas,filas,columnas)\n",
    "dataframe"
   ]
  },
  {
   "cell_type": "code",
   "execution_count": 38,
   "metadata": {},
   "outputs": [
    {
     "data": {
      "text/plain": [
       "oficina1    243\n",
       "oficina2    108\n",
       "oficina3    367\n",
       "Name: ventas_enero, dtype: int64"
      ]
     },
     "execution_count": 38,
     "metadata": {},
     "output_type": "execute_result"
    }
   ],
   "source": [
    "dataframe.loc['ventas_enero']"
   ]
  },
  {
   "cell_type": "code",
   "execution_count": 42,
   "metadata": {},
   "outputs": [],
   "source": [
    "ventas_enero_oficina1 = dataframe['oficina1']['ventas_enero']"
   ]
  },
  {
   "cell_type": "code",
   "execution_count": 43,
   "metadata": {},
   "outputs": [
    {
     "name": "stdout",
     "output_type": "stream",
     "text": [
      "Las ventas de enro para la oficina 1 son de:  243\n"
     ]
    }
   ],
   "source": [
    "print(\"Las ventas de enro para la oficina 1 son de: \", ventas_enero_oficina1)"
   ]
  },
  {
   "cell_type": "code",
   "execution_count": null,
   "metadata": {},
   "outputs": [],
   "source": []
  }
 ],
 "metadata": {
  "kernelspec": {
   "display_name": "Python 3",
   "language": "python",
   "name": "python3"
  },
  "language_info": {
   "codemirror_mode": {
    "name": "ipython",
    "version": 3
   },
   "file_extension": ".py",
   "mimetype": "text/x-python",
   "name": "python",
   "nbconvert_exporter": "python",
   "pygments_lexer": "ipython3",
   "version": "3.7.3"
  }
 },
 "nbformat": 4,
 "nbformat_minor": 2
}
