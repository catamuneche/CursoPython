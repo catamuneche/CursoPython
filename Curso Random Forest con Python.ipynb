{
 "cells": [
  {
   "cell_type": "code",
   "execution_count": 1,
   "metadata": {},
   "outputs": [],
   "source": [
    "import numpy as np\n",
    "import pandas as pd\n",
    "import matplotlib.pyplot as plt\n",
    "import seaborn as sns\n",
    "from sklearn.model_selection import train_test_split"
   ]
  },
  {
   "cell_type": "code",
   "execution_count": 2,
   "metadata": {},
   "outputs": [
    {
     "data": {
      "image/png": "[encoded data removed]",
      "text/plain": [
       "<Figure size 432x288 with 2 Axes>"
      ]
     },
     "metadata": {
      "needs_background": "light"
     },
     "output_type": "display_data"
    }
   ],
   "source": [
    "vinos = pd.read_csv('vino.csv')\n",
    "sns.heatmap(vinos.isnull()) #Para ver si hay valorees nulos\n",
    "vinos.columns #Para obtener los nombres de las columnas\n",
    "Y = vinos['Wine Type']\n",
    "X = vinos.drop('Wine Type', axis=1)\n",
    "#Se crean los set de entrenamientos y de pruebas\n",
    "X_train, X_test, Y_train, Y_test = train_test_split(X, Y, test_size=0.3, random_state=45)"
   ]
  },
  {
   "cell_type": "code",
   "execution_count": 3,
   "metadata": {},
   "outputs": [],
   "source": [
    "from sklearn.ensemble import RandomForestClassifier\n",
    "\n",
    "randomforest = RandomForestClassifier(n_estimators=80)\n",
    "randomforest.fit(X_train, Y_train) #Función para entrenar el modelo\n",
    "predicciones = randomforest.predict(X_test)#Función para hacer las predicciones"
   ]
  },
  {
   "cell_type": "code",
   "execution_count": 4,
   "metadata": {},
   "outputs": [
    {
     "data": {
      "text/plain": [
       "array(['Three', 'Three', 'One', 'Two', 'Two', 'Two', 'Three', 'One',\n",
       "       'One', 'Two', 'Two', 'One', 'One', 'Three', 'Two', 'Two', 'Two',\n",
       "       'Two', 'Three', 'Three', 'Two', 'Three', 'One', 'Three', 'Three',\n",
       "       'Three', 'One', 'Two', 'Three', 'Three', 'Three', 'Three', 'Three',\n",
       "       'One', 'Two', 'Three', 'One', 'One', 'One', 'One', 'Two', 'Two',\n",
       "       'Two', 'Two', 'Two', 'Three', 'Three', 'Three', 'One', 'Two',\n",
       "       'One', 'One', 'Three', 'One'], dtype=object)"
      ]
     },
     "execution_count": 4,
     "metadata": {},
     "output_type": "execute_result"
    }
   ],
   "source": [
    "predicciones"
   ]
  },
  {
   "cell_type": "code",
   "execution_count": 5,
   "metadata": {},
   "outputs": [
    {
     "data": {
      "text/plain": [
       "153    Three\n",
       "161    Three\n",
       "0        One\n",
       "64       Two\n",
       "62       Two\n",
       "69       Two\n",
       "177    Three\n",
       "3        One\n",
       "10       One\n",
       "82       Two\n",
       "113      Two\n",
       "35       One\n",
       "38       One\n",
       "160    Three\n",
       "91       Two\n",
       "90       Two\n",
       "99       Two\n",
       "61       Two\n",
       "149    Three\n",
       "165    Three\n",
       "109      Two\n",
       "150    Three\n",
       "29       One\n",
       "134    Three\n",
       "151    Three\n",
       "157    Three\n",
       "28       One\n",
       "76       Two\n",
       "167    Three\n",
       "154    Three\n",
       "155    Three\n",
       "168    Three\n",
       "166    Three\n",
       "58       One\n",
       "117      Two\n",
       "144    Three\n",
       "34       One\n",
       "40       One\n",
       "4        One\n",
       "45       One\n",
       "112      Two\n",
       "127      Two\n",
       "89       Two\n",
       "119      Two\n",
       "85       Two\n",
       "156    Three\n",
       "162    Three\n",
       "132    Three\n",
       "25       One\n",
       "66       Two\n",
       "13       One\n",
       "26       One\n",
       "159    Three\n",
       "44       One\n",
       "Name: Wine Type, dtype: object"
      ]
     },
     "execution_count": 5,
     "metadata": {},
     "output_type": "execute_result"
    }
   ],
   "source": [
    "Y_test"
   ]
  },
  {
   "cell_type": "code",
   "execution_count": 6,
   "metadata": {},
   "outputs": [
    {
     "name": "stdout",
     "output_type": "stream",
     "text": [
      "              precision    recall  f1-score   support\n",
      "\n",
      "         One       1.00      1.00      1.00        16\n",
      "       Three       1.00      1.00      1.00        20\n",
      "         Two       1.00      1.00      1.00        18\n",
      "\n",
      "    accuracy                           1.00        54\n",
      "   macro avg       1.00      1.00      1.00        54\n",
      "weighted avg       1.00      1.00      1.00        54\n",
      "\n"
     ]
    }
   ],
   "source": [
    "from sklearn.metrics import classification_report\n",
    " \n",
    "print(classification_report(Y_test,predicciones))"
   ]
  },
  {
   "cell_type": "code",
   "execution_count": 7,
   "metadata": {},
   "outputs": [
    {
     "data": {
      "text/plain": [
       "array([[16,  0,  0],\n",
       "       [ 0, 20,  0],\n",
       "       [ 0,  0, 18]], dtype=int64)"
      ]
     },
     "execution_count": 7,
     "metadata": {},
     "output_type": "execute_result"
    }
   ],
   "source": [
    "from sklearn.metrics import confusion_matrix\n",
    " \n",
    "confusion_matrix(Y_test,predicciones)"
   ]
  },
  {
   "cell_type": "code",
   "execution_count": null,
   "metadata": {},
   "outputs": [],
   "source": []
  }
 ],
 "metadata": {
  "kernelspec": {
   "display_name": "Python 3",
   "language": "python",
   "name": "python3"
  },
  "language_info": {
   "codemirror_mode": {
    "name": "ipython",
    "version": 3
   },
   "file_extension": ".py",
   "mimetype": "text/x-python",
   "name": "python",
   "nbconvert_exporter": "python",
   "pygments_lexer": "ipython3",
   "version": "3.7.3"
  }
 },
 "nbformat": 4,
 "nbformat_minor": 2
}
